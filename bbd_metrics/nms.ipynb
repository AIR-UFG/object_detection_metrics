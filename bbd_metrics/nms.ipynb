{
 "cells": [
  {
   "cell_type": "markdown",
   "id": "f0247379-3617-4fdc-9fd0-6a6964cbc962",
   "metadata": {},
   "source": [
    "# Non-Maximum Suppression\n",
    "\n",
    "https://d2l.ai/chapter_computer-vision/anchor.html#predicting-bounding-boxes-with-non-maximum-suppression\n",
    "\n",
    "O **Non-Maximum Suppression (NMS)** é uma técnica utilizada para eliminar predições redundantes em detecção de objetos, mantendo apenas as mais relevantes. Em algoritmos de detecção, múltiplas bounding boxes podem se sobrepor ao detectar o mesmo objeto, gerando predições duplicadas. O NMS seleciona a bounding box com a maior pontuação de confiança e descarta as demais BBs cujo IoU com a bb principal exceda um limite predefinido. Isso ajuda a reduzir redundâncias e a garantir que cada objeto seja representado por uma única bounding box."
   ]
  },
  {
   "cell_type": "code",
   "execution_count": null,
   "id": "67dbd702-20e5-456a-810a-4a877e6f889e",
   "metadata": {},
   "outputs": [],
   "source": [
    "import json\n",
    "from src.standalone  import *\n",
    "import numpy as np\n",
    "from scipy.spatial.transform import Rotation as R"
   ]
  },
  {
   "cell_type": "markdown",
   "id": "6c298274-db59-4124-a019-0ffab20f0889",
   "metadata": {
    "jp-MarkdownHeadingCollapsed": true
   },
   "source": [
    "## Evaluate"
   ]
  },
  {
   "cell_type": "markdown",
   "id": "62b9afe3-4d7d-4667-b894-01eb410a9b0a",
   "metadata": {},
   "source": [
    "Função evaluate que recebe duas bounding boxes no formato das predictions e retorna a métrica IoU "
   ]
  },
  {
   "cell_type": "code",
   "execution_count": 4,
   "id": "812ad310-c99a-49b1-8131-4a9f056ce95b",
   "metadata": {},
   "outputs": [],
   "source": [
    "def evaluate(prediction_instance1, prediction_instance2):\n",
    "    center_prediction = prediction_instance1[\"center3D\"]\n",
    "    center = np.array([center_prediction[\"x\"], center_prediction[\"y\"], center_prediction[\"z\"]])\n",
    "    \n",
    "    rotation_prediction = prediction_instance1[\"rotation3D\"]\n",
    "    rotation = [rotation_prediction[\"x\"], rotation_prediction[\"y\"], rotation_prediction[\"z\"]]\n",
    "    \n",
    "    size_prediction = prediction_instance1[\"size3D\"]\n",
    "    size = [size_prediction[\"x\"], size_prediction[\"y\"], size_prediction[\"z\"]]\n",
    "    \n",
    "    # Bounding Box Prediction 1\n",
    "    p = center\n",
    "    r = R.from_euler('xyz', rotation, degrees=True).as_matrix() # euler angles\n",
    "    d = np.array(size) # size\n",
    "    T = np.vstack([np.column_stack([d*r,p]),[0,0,0,1]])\n",
    "    bb = OBB(T)\n",
    "\n",
    "    center_prediction = prediction_instance2[\"center3D\"]\n",
    "    center = np.array([center_prediction[\"x\"], center_prediction[\"y\"], center_prediction[\"z\"]])\n",
    "    \n",
    "    rotation_prediction = prediction_instance2[\"rotation3D\"]\n",
    "    rotation = [rotation_prediction[\"x\"], rotation_prediction[\"y\"], rotation_prediction[\"z\"]]\n",
    "    \n",
    "    size_prediction = prediction_instance2[\"size3D\"]\n",
    "    size = [size_prediction[\"x\"], size_prediction[\"y\"], size_prediction[\"z\"]]\n",
    "    \n",
    "    # Bounding Box Prediction 2\n",
    "    p = center\n",
    "    r = R.from_euler('xyz', rotation, degrees=True).as_matrix() # euler angles\n",
    "    d = np.array(size) # size\n",
    "    T = np.vstack([np.column_stack([d*r,p]),[0,0,0,1]])\n",
    "    bb2 = OBB(T)\n",
    "\n",
    "    # IoU\n",
    "    iou_res = bb.IoU_v(bb2,1e-8)\n",
    "\n",
    "    return iou_res"
   ]
  },
  {
   "cell_type": "markdown",
   "id": "66f9897c-61b7-441c-a05a-0905c7ed3457",
   "metadata": {
    "jp-MarkdownHeadingCollapsed": true
   },
   "source": [
    "## Data"
   ]
  },
  {
   "cell_type": "code",
   "execution_count": 5,
   "id": "ebb1b98c-63b3-4387-8e6a-4a1b1fa53614",
   "metadata": {},
   "outputs": [],
   "source": [
    "import os, json\n",
    "\n",
    "folder_path = 'results/results'\n",
    "pred_names = os.listdir(folder_path)\n",
    "\n",
    "predictions = {}\n",
    "\n",
    "for pred_name in pred_names:\n",
    "    \n",
    "    if \"checkpoints\" in pred_name:\n",
    "        continue\n",
    "        \n",
    "    predictions[pred_name] = []\n",
    "    \n",
    "    with open(f\"{folder_path}/{pred_name}\", 'r') as file:\n",
    "        pred_json = json.load(file)\n",
    "        pred_signals = pred_json[\"signalsReceived\"]\n",
    "\n",
    "        for detections in pred_signals.values():\n",
    "            for pred in detections[\"detections\"]:\n",
    "                predictions[pred_name].append(pred)"
   ]
  },
  {
   "cell_type": "markdown",
   "id": "e039254b-f2b5-48a6-bf0e-de3345e5aff7",
   "metadata": {},
   "source": [
    "## NMS"
   ]
  },
  {
   "cell_type": "code",
   "execution_count": 6,
   "id": "02e34a9d-fc20-42a5-85ba-fa1bbeef76c3",
   "metadata": {},
   "outputs": [],
   "source": [
    "import torch\n",
    "\n",
    "def nms_3d_predictions(predictions, threshold=0.5):\n",
    "    # Ordena as predicoes de um arquivo pela confianca em ordem descendente\n",
    "    predictions = sorted(predictions, key=lambda x: x['confidence'], reverse=True)\n",
    "    keep = []\n",
    "\n",
    "    while predictions:\n",
    "        # Seleciona a predicao com a confianca mais alta\n",
    "        best_prediction = predictions.pop(0)\n",
    "        \n",
    "        keep.append(best_prediction)\n",
    "        \n",
    "        if not predictions:\n",
    "            break\n",
    "\n",
    "        # Calcula o iou entre a melhor predicao e todas as outras\n",
    "        remaining_preds = []\n",
    "        for pred in predictions:\n",
    "            iou = evaluate(best_prediction, pred)\n",
    "            \n",
    "            # So mantem as predicoes cujo IoU é menor que o threshold\n",
    "            if iou <= threshold:\n",
    "                remaining_preds.append(pred)\n",
    "        \n",
    "        # Atualiza a lista com as predicoes remanescentes\n",
    "        predictions = remaining_preds\n",
    "\n",
    "    return keep"
   ]
  },
  {
   "cell_type": "code",
   "execution_count": null,
   "id": "ad1acf0a-d2fa-4144-abaa-6bb571e95564",
   "metadata": {},
   "outputs": [],
   "source": [
    "for pred_name in predictions:\n",
    "    print(pred_name)\n",
    "    predictions_set = predictions[pred_name]\n",
    "    filtered_predictions = nms_3d_predictions(predictions_set)\n",
    "    print(f\"{len(predictions_set)} -> {len(filtered_predictions)}\")\n",
    "    print(f\"{len(predictions_set) - len(filtered_predictions)} filtrados\\n\")"
   ]
  }
 ],
 "metadata": {
  "kernelspec": {
   "display_name": "Python 3 (ipykernel)",
   "language": "python",
   "name": "python3"
  },
  "language_info": {
   "codemirror_mode": {
    "name": "ipython",
    "version": 3
   },
   "file_extension": ".py",
   "mimetype": "text/x-python",
   "name": "python",
   "nbconvert_exporter": "python",
   "pygments_lexer": "ipython3",
   "version": "3.10.12"
  }
 },
 "nbformat": 4,
 "nbformat_minor": 5
}
