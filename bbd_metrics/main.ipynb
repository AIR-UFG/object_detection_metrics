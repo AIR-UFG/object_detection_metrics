{
 "cells": [
  {
   "cell_type": "markdown",
   "id": "33e0b0e4-2c24-4277-95b3-97da5f1780de",
   "metadata": {},
   "source": [
    "BOUNDING BOX DISPARITY: 3D METRICS FOR OBJECT DETECTION WITH FULL DEGREE OF FREEDOM\n",
    "\n",
    "Artigo: https://arxiv.org/pdf/2207.03720\n",
    "\n",
    "Código: https://github.com/M-G-A/3D-Metrics/tree/main"
   ]
  },
  {
   "cell_type": "markdown",
   "id": "da2baa28-bf2a-4225-a5bc-63fd68ebdf03",
   "metadata": {},
   "source": [
    "Este notebook demonstra como avaliar a precisão de detecções 3D utilizando a função evaluate, que calcula métricas como Intersection over Union (IoU), Volume-to-volume distance (V2V), e Bounding Box Disparity (BBD)."
   ]
  },
  {
   "cell_type": "markdown",
   "id": "ac129936-a6ea-4ed2-bcb6-84514bba614d",
   "metadata": {},
   "source": [
    "## Métricas"
   ]
  },
  {
   "cell_type": "markdown",
   "id": "eefac24f-b2e0-41bc-9a4e-53080a89f53d",
   "metadata": {
    "jp-MarkdownHeadingCollapsed": true
   },
   "source": [
    "### Volumetric IoU\n",
    "A métrica **Intersection over Union (IoU)** volumétrica é uma medida utilizada na avaliação de sobreposição entre duas bounding boxes tridimensionais. O IoU é definido como a razão entre o volume da interseção das duas bbs (cubóides) e o volume da união delas.\n",
    "\n",
    "#### Etapas para calcular o IoU volumétrico:\n",
    "\n",
    "1. **Definição dos Pontos de Interesse (POI)**:\n",
    "   - Os pontos de interesse são definidos como:\n",
    "     - Canto da primeira cuboide dentro da segunda.\n",
    "     - Canto da segunda cuboide dentro da primeira.\n",
    "     - Interseções das arestas da primeira cuboide com os planos da segunda.\n",
    "     - Interseções das arestas da segunda cuboide com os planos da primeira.\n",
    "       \n",
    "2. **Verificação da Validade dos Pontos**:\n",
    "   - Cada ponto de interesse deve ser transformado no sistema de coordenadas de uma das cuboides (T1) e verificado para determinar se está dentro dos limites da cuboide. Os pontos válidos são aqueles cujas coordenadas estão entre -0.5 e 0.5, após a transformação.\n",
    "\n",
    "3. **Cálculo do Volume**:\n",
    "   - Para os pontos válidos, um envoltório convexo (convex hull) é construído. Se não for possível construir esse envoltório (por exemplo, se não houver pontos válidos ou se todos os pontos estiverem em um plano), então considera-se que não há interseção e o IoU é zero.\n",
    "   - Caso contrário, o volume da interseção é calculado a partir do envoltório convexo. O volume da união é obtido pela soma dos volumes das duas cuboides, subtraindo o volume da interseção.\n",
    "\n",
    "Um IoU próximo de 1 indica uma boa sobreposição entre as bbs, enquanto valores próximos de 0 sugerem pouca ou nenhuma sobreposição."
   ]
  },
  {
   "cell_type": "markdown",
   "id": "c71c8659-6b43-4e7a-8d31-08216b5b2c5c",
   "metadata": {},
   "source": [
    "### Volume-to-volume distance (V2V)\n",
    "\n",
    "A métrica de Volume-to-Volume Distance (V2V) calcula a menor distância entre duas bounding boxes tridimensionais, representadas como cuboides. Essa distância é definida como a menor distância ( ds ) entre pontos de interesse (PPOIs) que estão nos contornos (hulls) das duas caixas.\n",
    "\n",
    "#### Definição de Pontos-Pares de Interesse (PPOIs)\n",
    "\n",
    "Os pontos de interesse são definidos a partir das seguintes considerações:\n",
    "\n",
    "1. **Projeções de Canto**: As projeções retangulares dos cantos de um cubo sobre as faces do outro cubo e vice-versa.\n",
    "2. **Projeções em Arestas**: Os cantos de um cubo em relação às arestas do outro cubo.\n",
    "3. **Distância entre Arestas**: Distâncias entre pares de arestas de ambos os cubos.\n",
    "4. **Distância entre Cantos**: Distâncias entre pares de cantos de ambos os cubos.\n",
    "\n",
    "Esses pares são utilizados para calcular a menor distância possível, considerando que a superfície dos cubos é um conjunto infinito de pontos, mas as avaliações são feitas em um conjunto discreto.\n",
    "\n",
    "#### Projeções e Cálculos\n",
    "\n",
    "Para calcular a menor distância entre pontos e superfícies ou arestas, o método utiliza projeções geométricas:\n",
    "\n",
    "- **Projeção Ponto-Plano**: A distância entre um ponto e um plano é obtida pela projeção do ponto no plano. A validade da projeção é verificada se ela cai dentro dos limites do plano.\n",
    "  \n",
    "- **Projeção Ponto-Linha**: A distância entre um ponto e uma linha é obtida a partir da projeção do ponto na linha. Novamente, é verificado se a projeção está dentro do segmento da linha.\n",
    "\n",
    "- **Projeção Linha-Linha**: A distância entre duas linhas é calculada considerando a distância mínima entre elas.\n",
    "\n",
    "#### Cálculo da Distância\n",
    "\n",
    "No cálculo final, o algoritmo determina a menor distância entre todos os pares de pontos de interesse encontrados."
   ]
  },
  {
   "cell_type": "markdown",
   "id": "0ae31915-c39b-4d81-8a79-f7a24b2fd44c",
   "metadata": {},
   "source": [
    "### Bounding Box Disparity (BBD)\n",
    "\n",
    "A **Bounding Box Disparity (BBD)** é uma métrica que combina o **Intersection over Union (IoU)** e a **Volume-to-Volume Distance (V2V)** para avaliar a similaridade entre duas bounding boxes. Essa métrica é particularmente útil em cenários onde as caixas podem não se sobrepor, mas ainda assim é necessário medir a proximidade ou a diferença entre elas.\n",
    "\n",
    "#### Justificativa\n",
    "\n",
    "O IoU é uma métrica amplamente utilizada que mede a sobreposição entre duas bbs, resultando em valores entre 0 e 1, onde:\n",
    "- **1** indica uma correspondência total (ou seja, as bbs se sobrepõem completamente).\n",
    "- **0** indica que não há sobreposição.\n",
    "\n",
    "Entretanto, o IoU não pode distinguir entre bbs que estão próximas uma da outra sem se sobrepor. Para resolver essa limitação, a métrica BBD combina IoU e V2V da seguinte maneira:\n",
    "\n",
    "BBD = 1 − IoU + v2v\n",
    "\n",
    "#### Comportamento da Métrica\n",
    "\n",
    "- **Quando as caixas se sobrepõem**: O valor de IoU aumenta, fazendo com que a BBD diminua. Se houver uma correspondência total, a BBD será minimizada, refletindo alta similaridade.\n",
    "- **Quando não há sobreposição**: A distância entre as bbs (v2v) aumenta, resultando em um aumento na BBD. Assim, a BBD se torna uma métrica contínua que quantifica a (des)similaridade entre as bbs, onde valores mais altos indicam maior disparidade."
   ]
  },
  {
   "cell_type": "markdown",
   "id": "81c955b2-a270-450d-9ebc-06c15cac18e5",
   "metadata": {},
   "source": [
    "## Função evaluate"
   ]
  },
  {
   "cell_type": "markdown",
   "id": "d187472d-7aa2-4367-8cdc-5bda691cf0f7",
   "metadata": {},
   "source": [
    "A função `evaluate` recebe dois parâmetros principais: uma instância de **bounding box ground truth** e uma **predição**.\n",
    "\n",
    "1. **Ground Truth Bounding Box** (`gt_instance`): \n",
    "   Dicionário contendo as informações completas de uma bounding box no formato do ground truth. Exemplo:\n",
    "   ```python\n",
    "   {\n",
    "       'trackId': '21658603-47f6-4ba4-9864-0f789229e6f8',\n",
    "       'trackName': '2',\n",
    "       'groups': [],\n",
    "       'contour': {\n",
    "           'center3D': {'x': 50.4931, 'y': 4.6632, 'z': 0.2638},\n",
    "           'pointN': 7,\n",
    "           'points': [],\n",
    "           'rotation3D': {'x': 0, 'y': 0, 'z': 3.1106},\n",
    "           'sensorDistance': 50.71,\n",
    "           'size3D': {'x': 9.765, 'y': 3.4457, 'z': 3.4716}\n",
    "       },\n",
    "       'modelConfidence': None,\n",
    "       'modelClass': '',\n",
    "       'classVersion': 1,\n",
    "       'isValid': None,\n",
    "       'note': None,\n",
    "       'start': None,\n",
    "       'end': None,\n",
    "       'deviceName': None,\n",
    "       'deviceFrame': None,\n",
    "       'bevFrameName': None,\n",
    "       'index': None,\n",
    "       'role': None,\n",
    "       'content': None,\n",
    "       'id': '5e320a9c-767b-4e2e-bbbd-5ab0bc5281a4',\n",
    "       'type': '3D_BOX',\n",
    "       'classId': 2184728,\n",
    "       'className': 'bus',\n",
    "       'classNumber': None,\n",
    "       'classValues': [],\n",
    "       'createdAt': 1724768778000,\n",
    "       'createdBy': 1680339\n",
    "   }\n",
    "   \n",
    "1. **Prediction** (`prediction_instance`): \n",
    "Dicionário que representa a bounding box predita pelo modelo. Exemplo:\n",
    "\n",
    "    ```python\n",
    "    {\n",
    "        'center3D': {'x': -11.5158, 'y': 43.9325, 'z': -2.6742},\n",
    "        'rotation3D': {'x': 5.0805e-09, 'y': -1.6591e-09, 'z': 2.0792},\n",
    "        'size3D': {'x': 4.6225, 'y': 1.9612, 'z': 1.7235},\n",
    "        'confidence': 0.5224,\n",
    "        'labelId': 0,\n",
    "        'type': '3D_BOX'\n",
    "    }\n",
    "\n",
    "\n",
    "A função irá retornar as métricas Volumetric IoU, Volume-to-volume distance (V2V), e Bounding Box Disparity (BBD) para as duas bounding boxes."
   ]
  },
  {
   "cell_type": "markdown",
   "id": "94b8f514-4640-423c-a913-9b8dab9fb4f2",
   "metadata": {},
   "source": [
    "## Code example"
   ]
  },
  {
   "cell_type": "code",
   "execution_count": 17,
   "id": "c66ef820-e97a-4137-8037-054efa8e7b16",
   "metadata": {},
   "outputs": [],
   "source": [
    "import os, json\n",
    "from evaluate import evaluate"
   ]
  },
  {
   "cell_type": "code",
   "execution_count": 18,
   "id": "64da7b2c-73b2-412a-b0c1-427f4362098a",
   "metadata": {},
   "outputs": [],
   "source": [
    "def load_json_file(file_path):\n",
    "    with open(file_path, 'r') as file:\n",
    "        data = json.load(file)\n",
    "    return data"
   ]
  },
  {
   "cell_type": "code",
   "execution_count": 22,
   "id": "ebc8e9a0-c1e7-402e-b2a7-2b206597d544",
   "metadata": {},
   "outputs": [],
   "source": [
    "# Obtem todos os arquivos ground truths\n",
    "folder_path_gt = 'GT/GT'\n",
    "folder_path_results = 'results/results'\n",
    "\n",
    "gt_names = os.listdir(folder_path_gt)\n",
    "\n",
    "gt_jsons = []\n",
    "pred_jsons = []\n",
    "\n",
    "# Obtem todos os jsons ground truths e predictions\n",
    "for gt_name in gt_names:\n",
    "    gt_path = folder_path_gt + '/' + gt_name\n",
    "    pred_path = folder_path_results + '/' + gt_name\n",
    "\n",
    "    if not \"json\" in gt_path:\n",
    "        continue\n",
    "        \n",
    "    gt_json = load_json_file(gt_path)\n",
    "    pred_json = load_json_file(pred_path)\n",
    "\n",
    "    gt_jsons.append(gt_json)\n",
    "    pred_jsons.append(pred_json)"
   ]
  },
  {
   "cell_type": "markdown",
   "id": "0b3ffc23-ea2c-4260-a1d2-dab6686ad0be",
   "metadata": {},
   "source": [
    "Função que recebe o json de todos os ground truths de um arquivo e o json de todas as predições do mesmo arquivo, e calcula as métricas para cada combinação deles."
   ]
  },
  {
   "cell_type": "code",
   "execution_count": 20,
   "id": "ae124c75-c76f-47c7-ab30-16fa7fb75fc6",
   "metadata": {},
   "outputs": [],
   "source": [
    "def processar_metricas(ground_truths, predicoes):\n",
    "    resultados = []\n",
    "\n",
    "    # Itera sobre cada ground truth do arquivo\n",
    "    for instancia_gt in gt['instances']:\n",
    "        gt_track_id = instancia_gt['trackId']\n",
    "\n",
    "        # Para cada ground truth, faz a evaluation para cada predição\n",
    "        for key, predicao_data in predicoes.items():\n",
    "            for predicao in predicao_data['detections']:\n",
    "                pred_confidence = predicao['confidence']\n",
    "\n",
    "                metricas = evaluate(instancia_gt, predicao)\n",
    "\n",
    "                # Organizar os resultados\n",
    "                resultado = {\n",
    "                    'ground_truth': {\n",
    "                        'trackId': gt_track_id,\n",
    "                    },\n",
    "                    'predicao': {\n",
    "                        'confidence': pred_confidence,\n",
    "                    },\n",
    "                    'metricas': metricas\n",
    "                }\n",
    "\n",
    "                # Adicionar resultado à lista\n",
    "                resultados.append(resultado)\n",
    "\n",
    "    return resultados"
   ]
  },
  {
   "cell_type": "code",
   "execution_count": null,
   "id": "2109b0f3-240f-41ad-aca3-f3d4ac4950cf",
   "metadata": {},
   "outputs": [],
   "source": [
    "resultados_finais = []\n",
    "\n",
    "for gt, pred in zip(gt_jsons, pred_jsons):\n",
    "    gt = gt[0]\n",
    "    resultados_finais.append({\n",
    "        'dataId': gt['dataId'],\n",
    "        'metricas': processar_metricas(gt, pred['signalsReceived'])\n",
    "    })\n",
    "\n",
    "with open(\"resultados_metricas.json\", \"w\") as f:\n",
    "    json.dump(resultados_finais, f, indent=4)"
   ]
  }
 ],
 "metadata": {
  "kernelspec": {
   "display_name": "Python 3 (ipykernel)",
   "language": "python",
   "name": "python3"
  },
  "language_info": {
   "codemirror_mode": {
    "name": "ipython",
    "version": 3
   },
   "file_extension": ".py",
   "mimetype": "text/x-python",
   "name": "python",
   "nbconvert_exporter": "python",
   "pygments_lexer": "ipython3",
   "version": "3.10.12"
  }
 },
 "nbformat": 4,
 "nbformat_minor": 5
}
