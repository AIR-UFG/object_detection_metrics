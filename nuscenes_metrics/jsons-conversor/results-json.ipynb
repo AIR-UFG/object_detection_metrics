{
 "cells": [
  {
   "cell_type": "code",
   "execution_count": 49,
   "metadata": {},
   "outputs": [],
   "source": [
    "import os\n",
    "import json\n",
    "import numpy as np\n",
    "from scipy.spatial.transform import Rotation as R"
   ]
  },
  {
   "cell_type": "code",
   "execution_count": 50,
   "metadata": {},
   "outputs": [],
   "source": [
    "def euler_to_quaternion(euler_angles):\n",
    "    \"\"\"\n",
    "    Convert Euler angles (rotation3D) to quaternion [qx, qy, qz, qw].\n",
    "    :param euler_angles: List or tuple of Euler angles [x, y, z] in radians.\n",
    "    :return: Quaternion [qx, qy, qz, qw]\n",
    "    \"\"\"\n",
    "    rotation = R.from_euler('xyz', euler_angles)\n",
    "    quaternion = rotation.as_quat()  # Returns [qx, qy, qz, qw]\n",
    "    return quaternion"
   ]
  },
  {
   "cell_type": "code",
   "execution_count": 51,
   "metadata": {},
   "outputs": [],
   "source": [
    "def convert_to_target_format(source_json, threshold=0.0):\n",
    "    # Example label mapping from `labelId` to `detection_name`\n",
    "    label_mapping = {0: \"car\", 1: \"truck\", 2: \"bus\", 3: \"trailer\", 4: \"construction_vehicle\", 5: \"pedestrian\", 6: \"motorcycle\", 7: \"bicycle\", 8: \"traffic_cone\", 9: \"barrier\"}\n",
    "    \n",
    "    target_data = []\n",
    "\n",
    "    primary_token = str(source_json['sweepTimestamp'])\n",
    "    \n",
    "    for _, signal_data in source_json['signalsReceived'].items():\n",
    "        for detection in signal_data['detections']:\n",
    "            # Extracting and converting data\n",
    "            translation = [\n",
    "                detection['center3D']['x'], \n",
    "                detection['center3D']['y'], \n",
    "                detection['center3D']['z']\n",
    "            ]\n",
    "            \n",
    "            size = [\n",
    "                detection['size3D']['x'], \n",
    "                detection['size3D']['y'], \n",
    "                detection['size3D']['z']\n",
    "            ]\n",
    "            \n",
    "            # Convert Euler angles to quaternion\n",
    "            euler_angles = [\n",
    "                detection['rotation3D']['x'],\n",
    "                detection['rotation3D']['y'],\n",
    "                detection['rotation3D']['z']\n",
    "            ]\n",
    "            rotation = euler_to_quaternion(euler_angles)  # Convert to quaternion\n",
    "            \n",
    "            detection_score = detection['confidence']\n",
    "            detection_name = label_mapping.get(detection['labelId'], 'unknown')\n",
    "            \n",
    "            # Adding default velocity and num_pts (you can adjust these if you have the data)\n",
    "            velocity = np.array([0.0, 0.0])\n",
    "            \n",
    "            # Creating the final target format dictionary\n",
    "            target_format = {\n",
    "                'sample_token': primary_token,\n",
    "                'translation': translation,\n",
    "                'size': size,\n",
    "                'rotation': rotation.tolist(),  # Convert numpy array to list\n",
    "                'velocity': velocity,\n",
    "                'detection_name': detection_name,\n",
    "                'detection_score': detection_score,\n",
    "                'attribute_name': ''\n",
    "            }\n",
    "\n",
    "            if detection_score > threshold:\n",
    "                target_data.append(target_format)\n",
    "    \n",
    "    return primary_token, target_data"
   ]
  },
  {
   "cell_type": "code",
   "execution_count": 52,
   "metadata": {},
   "outputs": [],
   "source": [
    "# Helper function to convert numpy arrays to lists\n",
    "def convert_numpy_to_list(data):\n",
    "    if isinstance(data, np.ndarray):\n",
    "        return data.tolist()\n",
    "    elif isinstance(data, list):\n",
    "        return [convert_numpy_to_list(item) for item in data]\n",
    "    elif isinstance(data, dict):\n",
    "        return {key: convert_numpy_to_list(value) for key, value in data.items()}\n",
    "    return data"
   ]
  },
  {
   "cell_type": "code",
   "execution_count": 53,
   "metadata": {},
   "outputs": [],
   "source": [
    "SOURCE_DIR = '/root/metrics/results'\n",
    "SOURCE_DIR = '/root/metrics/converted-jsons/results_converted_05threshold'\n",
    "\n",
    "threshold = 0.5"
   ]
  },
  {
   "cell_type": "code",
   "execution_count": 54,
   "metadata": {},
   "outputs": [],
   "source": [
    "os.makedirs(SOURCE_DIR, exist_ok=True)\n",
    "\n",
    "for file in os.listdir(SOURCE_DIR):\n",
    "    # Read the source JSON file\n",
    "    with open(os.path.join(SOURCE_DIR, file), 'r') as f:\n",
    "        source_json = json.load(f)\n",
    "\n",
    "    # Convert the data to the target format\n",
    "    primary_token, converted_data = convert_to_target_format(source_json, threshold)\n",
    "\n",
    "    # Convert any numpy arrays to lists so they can be JSON serializable\n",
    "    converted_data = convert_numpy_to_list(converted_data)\n",
    "\n",
    "    target_file = os.path.join(SOURCE_DIR, str(primary_token) + '.json')\n",
    "    if not os.path.exists(target_file):\n",
    "        target_data = {'results': {}}\n",
    "    else:\n",
    "        with open(target_file, 'r') as f:\n",
    "            target_data = json.load(f)\n",
    "\n",
    "    target_data['results'][primary_token] = converted_data\n",
    "\n",
    "    # Add the \"meta\" field at the same level as \"results\"\n",
    "    target_data['meta'] = {\n",
    "        \"use_camera\": False,\n",
    "        \"use_lidar\": True,\n",
    "        \"use_radar\": False,\n",
    "        \"use_map\": False,\n",
    "        \"use_external\": False\n",
    "    }\n",
    "\n",
    "    # Write the target JSON file\n",
    "    with open(target_file, 'w') as f:\n",
    "        json.dump(target_data, f, indent=4)"
   ]
  }
 ],
 "metadata": {
  "kernelspec": {
   "display_name": "base",
   "language": "python",
   "name": "python3"
  },
  "language_info": {
   "codemirror_mode": {
    "name": "ipython",
    "version": 3
   },
   "file_extension": ".py",
   "mimetype": "text/x-python",
   "name": "python",
   "nbconvert_exporter": "python",
   "pygments_lexer": "ipython3",
   "version": "3.9.7"
  }
 },
 "nbformat": 4,
 "nbformat_minor": 2
}
