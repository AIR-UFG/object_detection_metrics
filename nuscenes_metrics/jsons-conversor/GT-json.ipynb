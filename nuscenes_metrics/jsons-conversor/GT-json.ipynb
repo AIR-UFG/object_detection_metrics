{
 "cells": [
  {
   "cell_type": "code",
   "execution_count": 7,
   "metadata": {},
   "outputs": [],
   "source": [
    "import os\n",
    "import json\n",
    "import numpy as np\n",
    "from scipy.spatial.transform import Rotation as R"
   ]
  },
  {
   "cell_type": "code",
   "execution_count": 8,
   "metadata": {},
   "outputs": [],
   "source": [
    "def euler_to_quaternion(euler_angles):\n",
    "    \"\"\"\n",
    "    Convert Euler angles (rotation3D) to quaternion [qx, qy, qz, qw].\n",
    "    :param euler_angles: List or tuple of Euler angles [x, y, z] in radians.\n",
    "    :return: Quaternion [qx, qy, qz, qw]\n",
    "    \"\"\"\n",
    "    rotation = R.from_euler('xyz', euler_angles)\n",
    "    quaternion = rotation.as_quat()  # Returns [qx, qy, qz, qw]\n",
    "    return quaternion"
   ]
  },
  {
   "cell_type": "code",
   "execution_count": 9,
   "metadata": {},
   "outputs": [],
   "source": [
    "def convert_to_target_format(source_json, primary_token):\n",
    "    target_data = []\n",
    "    \n",
    "    for instance in source_json[0][\"instances\"]:\n",
    "        center = instance[\"contour\"][\"center3D\"]\n",
    "        size = instance[\"contour\"][\"size3D\"]\n",
    "        rotation = instance[\"contour\"][\"rotation3D\"]\n",
    "\n",
    "        # Convert Euler angles to quaternion\n",
    "        rotation_quaternion = euler_to_quaternion([rotation[\"x\"], rotation[\"y\"], rotation[\"z\"]])\n",
    "\n",
    "        target_data.append({\n",
    "            'sample_token': primary_token,\n",
    "            'translation': [\n",
    "                center[\"x\"],\n",
    "                center[\"y\"],\n",
    "                center[\"z\"]\n",
    "            ],\n",
    "            'size': [\n",
    "                size[\"x\"],\n",
    "                size[\"y\"],\n",
    "                size[\"z\"]\n",
    "            ],\n",
    "            'rotation': rotation_quaternion,\n",
    "            'velocity': np.array([0, 0]),  # Default value\n",
    "            'detection_name': instance[\"className\"],\n",
    "            'detection_score': 1.0,  # Default value\n",
    "            'attribute_name': ''\n",
    "        })\n",
    "    \n",
    "    return target_data"
   ]
  },
  {
   "cell_type": "code",
   "execution_count": 10,
   "metadata": {},
   "outputs": [],
   "source": [
    "# Helper function to convert numpy arrays to lists\n",
    "def convert_numpy_to_list(data):\n",
    "    if isinstance(data, np.ndarray):\n",
    "        return data.tolist()\n",
    "    elif isinstance(data, list):\n",
    "        return [convert_numpy_to_list(item) for item in data]\n",
    "    elif isinstance(data, dict):\n",
    "        return {key: convert_numpy_to_list(value) for key, value in data.items()}\n",
    "    return data"
   ]
  },
  {
   "cell_type": "code",
   "execution_count": 11,
   "metadata": {},
   "outputs": [],
   "source": [
    "SOURCE_DIR = '/root/metrics/jsons/GT'\n",
    "TARGET_DIR = '/root/metrics/converted-jsons/GT_converted'"
   ]
  },
  {
   "cell_type": "code",
   "execution_count": 12,
   "metadata": {},
   "outputs": [],
   "source": [
    "os.makedirs(TARGET_DIR, exist_ok=True)\n",
    "\n",
    "for file in os.listdir(SOURCE_DIR):\n",
    "    # Read the source JSON file\n",
    "    with open(os.path.join(SOURCE_DIR, file), 'r') as f:\n",
    "        source_json = json.load(f)\n",
    "\n",
    "    # Use file name as primary token considering there is a . in the file name\n",
    "    primary_token = file.split('.')[0] + '.' + file.split('.')[1]\n",
    "\n",
    "    # Convert the data to the target format\n",
    "    converted_data = convert_to_target_format(source_json, primary_token)\n",
    "\n",
    "    # Convert any numpy arrays to lists so they can be JSON serializable\n",
    "    converted_data = convert_numpy_to_list(converted_data)\n",
    "\n",
    "    target_file = os.path.join(TARGET_DIR, (str(primary_token) + '.json'))\n",
    "    if not os.path.exists(target_file):\n",
    "        target_data = {'results': {}}\n",
    "    else:\n",
    "        with open(target_file, 'r') as f:\n",
    "            target_data = json.load(f)\n",
    "\n",
    "    target_data['results'][primary_token] = converted_data\n",
    "\n",
    "    # Write the target JSON file\n",
    "    with open(target_file, 'w') as f:\n",
    "        json.dump(target_data, f, indent=4)\n",
    "\n",
    "    # Add the \"meta\" field at the same level as \"results\"\n",
    "    target_data['meta'] = {\n",
    "        \"use_camera\": False,\n",
    "        \"use_lidar\": True,\n",
    "        \"use_radar\": False,\n",
    "        \"use_map\": False,\n",
    "        \"use_external\": False\n",
    "    }\n",
    "\n",
    "    # Write the target JSON file\n",
    "    with open(target_file, 'w') as f:\n",
    "        json.dump(target_data, f, indent=4)"
   ]
  }
 ],
 "metadata": {
  "kernelspec": {
   "display_name": "base",
   "language": "python",
   "name": "python3"
  },
  "language_info": {
   "codemirror_mode": {
    "name": "ipython",
    "version": 3
   },
   "file_extension": ".py",
   "mimetype": "text/x-python",
   "name": "python",
   "nbconvert_exporter": "python",
   "pygments_lexer": "ipython3",
   "version": "3.9.7"
  }
 },
 "nbformat": 4,
 "nbformat_minor": 2
}
